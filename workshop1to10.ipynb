{
 "cells": [
  {
   "cell_type": "code",
   "execution_count": 21,
   "id": "657abd4a-87f3-440a-abf6-f41c3ed5fd5b",
   "metadata": {},
   "outputs": [
    {
     "name": "stdin",
     "output_type": "stream",
     "text": [
      "Enter the employess salarys 40000\n"
     ]
    },
    {
     "name": "stdout",
     "output_type": "stream",
     "text": [
      "medium income\n"
     ]
    }
   ],
   "source": [
    "#question1\n",
    "salary=int(input(\"Enter the employess salarys\"))\n",
    "if(salary < 30000):\n",
    "    print(\"low income\")\n",
    "elif(salary > 50000):\n",
    "    print(\"high income\")\n",
    "else:\n",
    "    print(\"medium income\")"
   ]
  },
  {
   "cell_type": "code",
   "execution_count": 13,
   "id": "7c2ccc21-d30d-409b-aec3-faadaf70a676",
   "metadata": {},
   "outputs": [
    {
     "name": "stdin",
     "output_type": "stream",
     "text": [
      "Enter the number 4\n"
     ]
    },
    {
     "name": "stdout",
     "output_type": "stream",
     "text": [
      "turn on the streetlight\n"
     ]
    }
   ],
   "source": [
    "#question2\n",
    "num=int(input(\"Enter the number\"))\n",
    "if(num%2==0):\n",
    "    print(\"turn on the streetlight\")\n",
    "else:\n",
    "    print(\"turn off\")"
   ]
  },
  {
   "cell_type": "code",
   "execution_count": 23,
   "id": "c3a1583a-ade7-4a59-a13f-509bf10e6e33",
   "metadata": {},
   "outputs": [
    {
     "name": "stdout",
     "output_type": "stream",
     "text": [
      "show the menu to the user\n",
      " 1 for checking balance\n",
      " 2 for deposit money\n",
      " 3 withdraw money\n",
      " 4 for exit from system\n"
     ]
    },
    {
     "name": "stdin",
     "output_type": "stream",
     "text": [
      "enter the number 3\n",
      " 20000\n"
     ]
    },
    {
     "name": "stdout",
     "output_type": "stream",
     "text": [
      "60000\n"
     ]
    }
   ],
   "source": [
    "#question3\n",
    "balance=80000\n",
    "print(\"show the menu to the user\")\n",
    "print(\" 1 for checking balance\")\n",
    "print(\" 2 for deposit money\")\n",
    "print(\" 3 withdraw money\")\n",
    "print(\" 4 for exit from system\")\n",
    "num=int(input(\"enter the number\"))\n",
    "if(num==1):\n",
    "    print(balance)\n",
    "elif(num==2):\n",
    "    amount=int(input(\"\"))\n",
    "    balance=balance+amount\n",
    "    print(balance)\n",
    "elif(num==3):\n",
    "    withdraw=int(input(\"\"))\n",
    "    balance=balance-withdraw\n",
    "    print(balance)\n",
    "elif(num==4):\n",
    "    print(\"exit  from system\")\n",
    "else:\n",
    "    print(\"thanks\")\n"
   ]
  },
  {
   "cell_type": "code",
   "execution_count": 33,
   "id": "3be7b9e9-c078-4b03-b665-197249fecdef",
   "metadata": {},
   "outputs": [
    {
     "name": "stdin",
     "output_type": "stream",
     "text": [
      "enter the count of the passengers at every stop  3\n"
     ]
    },
    {
     "name": "stdout",
     "output_type": "stream",
     "text": [
      "3\n"
     ]
    },
    {
     "name": "stdin",
     "output_type": "stream",
     "text": [
      "enter the count of the passengers at every stop  4\n"
     ]
    },
    {
     "name": "stdout",
     "output_type": "stream",
     "text": [
      "7\n"
     ]
    },
    {
     "name": "stdin",
     "output_type": "stream",
     "text": [
      "enter the count of the passengers at every stop  5\n"
     ]
    },
    {
     "name": "stdout",
     "output_type": "stream",
     "text": [
      "12\n"
     ]
    },
    {
     "name": "stdin",
     "output_type": "stream",
     "text": [
      "enter the count of the passengers at every stop  6\n"
     ]
    },
    {
     "name": "stdout",
     "output_type": "stream",
     "text": [
      "18\n"
     ]
    },
    {
     "name": "stdin",
     "output_type": "stream",
     "text": [
      "enter the count of the passengers at every stop  7\n"
     ]
    },
    {
     "name": "stdout",
     "output_type": "stream",
     "text": [
      "25\n"
     ]
    }
   ],
   "source": [
    "#questoin4\n",
    "total=0\n",
    "for stops in range (1,6):\n",
    "    count=int(input(\"enter the count of the passengers at every stop \"))\n",
    "    total=total+count\n",
    "    print(total)"
   ]
  },
  {
   "cell_type": "code",
   "execution_count": 36,
   "id": "43735567-7946-4537-8053-4050ae6281a4",
   "metadata": {},
   "outputs": [
    {
     "name": "stdin",
     "output_type": "stream",
     "text": [
      "Enter your PIN:  6767\n"
     ]
    },
    {
     "name": "stdout",
     "output_type": "stream",
     "text": [
      "Incorrect PIN. You have {attempts} attempts left.\n"
     ]
    },
    {
     "name": "stdin",
     "output_type": "stream",
     "text": [
      "Enter your PIN:  1234\n"
     ]
    },
    {
     "name": "stdout",
     "output_type": "stream",
     "text": [
      "Access Granted. Welcome!\n"
     ]
    }
   ],
   "source": [
    "#question5\n",
    "correct_pin = \"1234\"\n",
    "attempts = 3\n",
    "\n",
    "while attempts > 0:\n",
    "    entered_pin = input(\"Enter your PIN: \")\n",
    "    \n",
    "    if entered_pin == correct_pin:\n",
    "        print(\"Access Granted. Welcome!\")\n",
    "        break\n",
    "    else:\n",
    "        attempts -= 1\n",
    "        if attempts > 0:\n",
    "            print(f\"Incorrect PIN. You have {attempts} attempts left.\")\n",
    "        else:\n",
    "            print(\"Incorrect PIN entered 3 times. Your card is blocked.\")"
   ]
  },
  {
   "cell_type": "code",
   "execution_count": 38,
   "id": "4fbe9655-d3fe-406f-a999-34037fbc864d",
   "metadata": {},
   "outputs": [
    {
     "name": "stdin",
     "output_type": "stream",
     "text": [
      "Enter a number:  1234\n"
     ]
    },
    {
     "name": "stdout",
     "output_type": "stream",
     "text": [
      "Reversed number: 4321\n"
     ]
    }
   ],
   "source": [
    "#question6\n",
    "def reverse_number(n):\n",
    "    return int(str(n)[::-1])\n",
    "\n",
    "\n",
    "num = int(input(\"Enter a number: \"))\n",
    "reversed_num = reverse_number(num)\n",
    "print(f\"Reversed number: {reversed_num}\")\n"
   ]
  },
  {
   "cell_type": "code",
   "execution_count": 42,
   "id": "4ee5533d-3858-4207-a30f-1bbe6b6a01d2",
   "metadata": {},
   "outputs": [
    {
     "name": "stdin",
     "output_type": "stream",
     "text": [
      "Enter the amount:  4000\n"
     ]
    },
    {
     "name": "stdout",
     "output_type": "stream",
     "text": [
      "₹2000 notes: 2\n",
      "₹500 notes: 0\n"
     ]
    }
   ],
   "source": [
    "#question7\n",
    "def dispense_cash(amount):\n",
    "    if amount % 500 != 0:\n",
    "        print(\"Invalid amount. Please enter a multiple of ₹500.\")\n",
    "        return\n",
    "    \n",
    "    notes_2000 = amount // 2000\n",
    "    remaining = amount % 2000\n",
    "    notes_500 = remaining // 500\n",
    "    \n",
    "    print(f\"₹2000 notes: {notes_2000}\")\n",
    "    print(f\"₹500 notes: {notes_500}\")\n",
    "\n",
    "\n",
    "amount =int(input(\"Enter the amount: \"))\n",
    "dispense_cash(amount)\n"
   ]
  },
  {
   "cell_type": "code",
   "execution_count": 44,
   "id": "37bc745a-62fe-465c-82e9-4b7d88e683a4",
   "metadata": {},
   "outputs": [
    {
     "name": "stdin",
     "output_type": "stream",
     "text": [
      "Enter an item to add to the cart (or type 'done' to finish):  shampoo\n",
      "Enter an item to add to the cart (or type 'done' to finish):  sabun\n",
      "Enter an item to add to the cart (or type 'done' to finish):  maggie\n",
      "Enter an item to add to the cart (or type 'done' to finish):  mp4\n",
      "Enter an item to add to the cart (or type 'done' to finish):  ps4\n",
      "Enter an item to add to the cart (or type 'done' to finish):  done\n"
     ]
    },
    {
     "name": "stdout",
     "output_type": "stream",
     "text": [
      "\n",
      "Items in your cart:\n",
      "1. shampoo\n",
      "2. sabun\n",
      "3. maggie\n",
      "4. mp4\n",
      "5. ps4\n"
     ]
    }
   ],
   "source": [
    "#question8\n",
    "def shopping_cart():\n",
    "    cart = []\n",
    "    while True:\n",
    "        item = input(\"Enter an item to add to the cart (or type 'done' to finish): \")\n",
    "        if item.lower() == \"done\":\n",
    "            break\n",
    "        cart.append(item)\n",
    "    \n",
    "    print(\"\\nItems in your cart:\")\n",
    "    for i, product in enumerate(cart, 1):\n",
    "        print(f\"{i}. {product}\")\n",
    "shopping_cart()\n"
   ]
  },
  {
   "cell_type": "code",
   "execution_count": 1,
   "id": "4f9075d5-04df-4e94-bbf2-6c2168ec1f19",
   "metadata": {},
   "outputs": [
    {
     "name": "stdin",
     "output_type": "stream",
     "text": [
      "Enter grade for subject 1:  23\n",
      "Enter grade for subject 2:  45\n",
      "Enter grade for subject 3:  67\n",
      "Enter grade for subject 4:  78\n",
      "Enter grade for subject 5:  87\n"
     ]
    },
    {
     "name": "stdout",
     "output_type": "stream",
     "text": [
      "\n",
      "Grade Summary:\n",
      "Highest Grade: 87.0\n",
      "Lowest Grade: 23.0\n",
      "Average Grade: 60.00\n"
     ]
    }
   ],
   "source": [
    "#question9\n",
    "def student_grades():\n",
    "    grades = []\n",
    "    \n",
    "    for i in range(5):\n",
    "        grade = float(input(f\"Enter grade for subject {i+1}: \"))\n",
    "        grades.append(grade)\n",
    "    \n",
    "    grades_tuple = tuple(grades)  \n",
    "    highest = max(grades_tuple)\n",
    "    lowest = min(grades_tuple)\n",
    "    average = sum(grades_tuple) / len(grades_tuple)\n",
    "    \n",
    "    print(\"\\nGrade Summary:\")\n",
    "    print(f\"Highest Grade: {highest}\")\n",
    "    print(f\"Lowest Grade: {lowest}\")\n",
    "    print(f\"Average Grade: {average:.2f}\")\n",
    "student_grades()\n"
   ]
  },
  {
   "cell_type": "code",
   "execution_count": null,
   "id": "fe2be0e9-5546-4f80-a276-123471c03037",
   "metadata": {},
   "outputs": [
    {
     "name": "stdout",
     "output_type": "stream",
     "text": [
      "\n",
      "Menu:\n",
      "1. Add Movie\n",
      "2. Update Rating\n",
      "3. Display Movies\n",
      "4. Exit\n"
     ]
    },
    {
     "name": "stdin",
     "output_type": "stream",
     "text": [
      "Enter your choice:  2\n",
      "Enter movie name to update rating:  chava 10\n"
     ]
    },
    {
     "name": "stdout",
     "output_type": "stream",
     "text": [
      "Movie not found.\n",
      "\n",
      "Menu:\n",
      "1. Add Movie\n",
      "2. Update Rating\n",
      "3. Display Movies\n",
      "4. Exit\n"
     ]
    }
   ],
   "source": [
    "#question10\n",
    "def movie_collection():\n",
    "    movies = {}\n",
    "    \n",
    "    while True:\n",
    "        print(\"\\nMenu:\")\n",
    "        print(\"1. Add Movie\")\n",
    "        print(\"2. Update Rating\")\n",
    "        print(\"3. Display Movies\")\n",
    "        print(\"4. Exit\")\n",
    "        \n",
    "        choice = input(\"Enter your choice: \")\n",
    "        \n",
    "        if choice == \"1\":\n",
    "            name = input(\"Enter movie name: \")\n",
    "            rating = float(input(\"Enter movie rating (out of 10): \"))\n",
    "            movies[name] = rating\n",
    "            print(f\"Movie '{name}' added with rating {rating}.\")\n",
    "        \n",
    "        elif choice == \"2\":\n",
    "            name = input(\"Enter movie name to update rating: \")\n",
    "            if name in movies:\n",
    "                rating = float(input(\"Enter new rating (out of 10): \"))\n",
    "                movies[name] = rating\n",
    "                print(f\"Rating for '{name}' updated to {rating}.\")\n",
    "            else:\n",
    "                print(\"Movie not found.\")\n",
    "        \n",
    "        elif choice == \"3\":\n",
    "            if movies:\n",
    "                print(\"\\nMovie Collection:\")\n",
    "                for name, rating in movies.items():\n",
    "                    print(f\"{name}: {rating}/10\")\n",
    "            else:\n",
    "                print(\"No movies in the collection.\")\n",
    "        \n",
    "        elif choice == \"4\":\n",
    "            print(\"Exiting program.\")\n",
    "            break\n",
    "        else:\n",
    "            print(\"Invalid choice. Please try again.\")\n",
    "movie_collection()"
   ]
  },
  {
   "cell_type": "code",
   "execution_count": null,
   "id": "5cb4db96-a02a-4056-9832-f7ad0b74ffd4",
   "metadata": {},
   "outputs": [],
   "source": []
  }
 ],
 "metadata": {
  "kernelspec": {
   "display_name": "Python [conda env:base] *",
   "language": "python",
   "name": "conda-base-py"
  },
  "language_info": {
   "codemirror_mode": {
    "name": "ipython",
    "version": 3
   },
   "file_extension": ".py",
   "mimetype": "text/x-python",
   "name": "python",
   "nbconvert_exporter": "python",
   "pygments_lexer": "ipython3",
   "version": "3.12.7"
  }
 },
 "nbformat": 4,
 "nbformat_minor": 5
}
