{
 "cells": [
  {
   "cell_type": "code",
   "execution_count": 1,
   "id": "5ac5197e-70a4-4057-a7de-5c804a443eed",
   "metadata": {},
   "outputs": [
    {
     "name": "stdout",
     "output_type": "stream",
     "text": [
      "Unique book titles: ['Moby-Dick', 'The Great Gatsby', 'The Catcher in the Rye', 'To Kill a Mockingbird', '1984']\n"
     ]
    }
   ],
   "source": [
    "#que.11\n",
    "def remove_duplicates(book_titles):\n",
    "     unique_books = set(book_titles)\n",
    "     return list(unique_books)\n",
    "book_titles = [\n",
    "    \"The Great Gatsby\",\n",
    "    \"To Kill a Mockingbird\",\n",
    "    \"1984\",\n",
    "    \"The Catcher in the Rye\",\n",
    "    \"The Great Gatsby\",\n",
    "    \"Moby-Dick\",\n",
    "    \"1984\"\n",
    "]\n",
    "\n",
    "unique_book_titles = remove_duplicates(book_titles)\n",
    "print(\"Unique book titles:\", unique_book_titles)"
   ]
  },
  {
   "cell_type": "code",
   "execution_count": 21,
   "id": "7321547e-6e11-420e-8b64-ab0f0fa4c72b",
   "metadata": {},
   "outputs": [
    {
     "name": "stdout",
     "output_type": "stream",
     "text": [
      "Your current balance is: rs1000\n",
      "Successfully deposited rs500. Your new balance is: rs1500\n",
      "Successfully withdrew rs200. Your new balance is: rs1300\n",
      "Your current balance is: rs1300\n"
     ]
    }
   ],
   "source": [
    "#que.12\n",
    "class ATM:\n",
    "    def __init__(self, balance=0):\n",
    "        self.balance = balance\n",
    "    \n",
    "    def check_balance(self):\n",
    "        print(f\"Your current balance is: rs{self.balance}\")\n",
    "    \n",
    "    def deposit(self, amount):\n",
    "        if amount > 0:\n",
    "            self.balance += amount\n",
    "            print(f\"Successfully deposited rs{amount}. Your new balance is: rs{self.balance}\")\n",
    "        else:\n",
    "            print(\"Invalid deposit amount. Please enter a positive value.\")\n",
    "    \n",
    "    def withdraw(self, amount):\n",
    "        if amount > self.balance:\n",
    "            print(\"Insufficient funds.\")\n",
    "        elif amount <= 0:\n",
    "            print(\"Invalid withdrawal amount. Please enter a positive value.\")\n",
    "        else:\n",
    "            self.balance -= amount\n",
    "            print(f\"Successfully withdrew rs{amount}. Your new balance is: rs{self.balance}\")\n",
    "\n",
    "atm = ATM(1000)  \n",
    "atm.check_balance()\n",
    "atm.deposit(500)\n",
    "atm.withdraw(200)\n",
    "atm.check_balance()\n"
   ]
  },
  {
   "cell_type": "code",
   "execution_count": 23,
   "id": "95c1d0e4-747c-4831-9a2a-380b5dbce1bc",
   "metadata": {},
   "outputs": [
    {
     "name": "stdin",
     "output_type": "stream",
     "text": [
      "Enter the student's marks:  97\n"
     ]
    },
    {
     "name": "stdout",
     "output_type": "stream",
     "text": [
      "The student's grade is: A\n"
     ]
    }
   ],
   "source": [
    "#que.13\n",
    "def calculate_grade(marks):\n",
    "    if 90 <= marks <= 100:\n",
    "        return 'A'\n",
    "    elif 80 <= marks < 90:\n",
    "        return 'B'\n",
    "    elif 70 <= marks < 80:\n",
    "        return 'C'\n",
    "    elif 60 <= marks < 70:\n",
    "        return 'D'\n",
    "    else:\n",
    "        return 'F'\n",
    "marks = int(input(\"Enter the student's marks: \"))\n",
    "grade = calculate_grade(marks)\n",
    "print(f\"The student's grade is: {grade}\")"
   ]
  },
  {
   "cell_type": "code",
   "execution_count": 25,
   "id": "58f4767e-b3d7-4d72-9959-a38aa2b9040c",
   "metadata": {},
   "outputs": [
    {
     "name": "stdin",
     "output_type": "stream",
     "text": [
      "Enter first number:  6\n",
      "Enter second number:  3\n",
      "Enter operator (+, -, *, /):  \n"
     ]
    },
    {
     "name": "stdout",
     "output_type": "stream",
     "text": [
      "Result: Error: Invalid operator. Please use +, -, *, or /.\n"
     ]
    }
   ],
   "source": [
    "#que.14\n",
    "def calculator(num1, num2, operator):\n",
    "    if operator == '+':\n",
    "        return num1 + num2\n",
    "    elif operator == '-':\n",
    "        return num1 - num2\n",
    "    elif operator == '*':\n",
    "        return num1 * num2\n",
    "    elif operator == '/':\n",
    "        if num2 != 0:\n",
    "            return num1 / num2\n",
    "        else:\n",
    "            return \"Error: Division by zero is not allowed.\"\n",
    "    else:\n",
    "        return \"Error: Invalid operator. Please use +, -, *, or /.\"\n",
    "\n",
    "num1 = float(input(\"Enter first number: \"))\n",
    "num2 = float(input(\"Enter second number: \"))\n",
    "operator = input(\"Enter operator (+, -, *, /): \")\n",
    "\n",
    "result = calculator(num1, num2, operator)\n",
    "print(f\"Result: {result}\")"
   ]
  },
  {
   "cell_type": "code",
   "execution_count": 29,
   "id": "fd4a626a-c85f-49ed-b51c-b28f314fe2ed",
   "metadata": {},
   "outputs": [
    {
     "name": "stdin",
     "output_type": "stream",
     "text": [
      "Enter first number:  305.5\n",
      "Enter second number:  200.3\n",
      "Enter third number:  807.3\n"
     ]
    },
    {
     "name": "stdout",
     "output_type": "stream",
     "text": [
      "The maximum number is: 807.3\n"
     ]
    }
   ],
   "source": [
    "#que.15\n",
    "def find_maximum(num1, num2, num3):\n",
    "    return max(num1, num2, num3)\n",
    "\n",
    "num1 = float(input(\"Enter first number: \"))\n",
    "num2 = float(input(\"Enter second number: \"))\n",
    "num3 = float(input(\"Enter third number: \"))\n",
    "\n",
    "max_number = find_maximum(num1, num2, num3)\n",
    "print(f\"The maximum number is: {max_number}\")"
   ]
  },
  {
   "cell_type": "code",
   "execution_count": 33,
   "id": "8b575e27-3d5a-4fae-beb2-c1fc24a4bd2f",
   "metadata": {},
   "outputs": [
    {
     "name": "stdin",
     "output_type": "stream",
     "text": [
      "Enter student name:  41\n",
      "Enter student marks:  41\n"
     ]
    },
    {
     "name": "stdout",
     "output_type": "stream",
     "text": [
      "41 has passed.\n"
     ]
    }
   ],
   "source": [
    "#que.16\n",
    "class Student:\n",
    "    def __init__(self, name, marks):\n",
    "        self.name = name\n",
    "        self.marks = marks\n",
    "    \n",
    "    def has_passed(self):\n",
    "        return self.marks >= 40\n",
    "\n",
    "name = input(\"Enter student name: \")\n",
    "marks = float(input(\"Enter student marks: \"))\n",
    "\n",
    "student = Student(name, marks)\n",
    "if student.has_passed():\n",
    "    print(f\"{student.name} has passed.\")\n",
    "else:\n",
    "    print(f\"{student.name} has failed.\")\n"
   ]
  },
  {
   "cell_type": "code",
   "execution_count": 35,
   "id": "b9a4bcd0-f79a-46ca-a9ab-f6305e1a9d01",
   "metadata": {},
   "outputs": [
    {
     "name": "stdin",
     "output_type": "stream",
     "text": [
      "Enter account holder's name:  sam\n"
     ]
    },
    {
     "name": "stdout",
     "output_type": "stream",
     "text": [
      "Deposited Rs1000. New balance: Rs1000\n",
      "Withdrew Rs500. New balance: Rs500\n"
     ]
    }
   ],
   "source": [
    "que.17\n",
    "class BankAccount:\n",
    "    def __init__(self, account_holder, balance=0):\n",
    "        self.account_holder = account_holder\n",
    "        self.balance = balance\n",
    "    \n",
    "    def deposit(self, amount):\n",
    "        if amount > 0:\n",
    "            self.balance += amount\n",
    "            print(f\"Deposited Rs{amount}. New balance: Rs{self.balance}\")\n",
    "        else:\n",
    "            print(\"Invalid deposit amount.\")\n",
    "    \n",
    "    def withdraw(self, amount):\n",
    "        if 0 < amount <= self.balance:\n",
    "            self.balance -= amount\n",
    "            print(f\"Withdrew Rs{amount}. New balance: Rs{self.balance}\")\n",
    "        else:\n",
    "            print(\"Invalid withdrawal amount or insufficient balance.\")\n",
    "\n",
    "\n",
    "name = input(\"Enter account holder's name: \")\n",
    "account = BankAccount(name)\n",
    "account.deposit(1000)\n",
    "account.withdraw(500)\n"
   ]
  },
  {
   "cell_type": "code",
   "execution_count": 37,
   "id": "04aa2e59-afa5-4538-a7a5-969c5e7c8a7a",
   "metadata": {},
   "outputs": [
    {
     "name": "stdin",
     "output_type": "stream",
     "text": [
      "Enter book title:  scam\n",
      "Enter book author:  shubham\n"
     ]
    },
    {
     "name": "stdout",
     "output_type": "stream",
     "text": [
      "Book: scam, Author: shubham\n"
     ]
    }
   ],
   "source": [
    "#que.18\n",
    "class Book:\n",
    "    def __init__(self, title, author):\n",
    "        self.title = title\n",
    "        self.author = author\n",
    "    \n",
    "    def display_details(self):\n",
    "        print(f\"Book: {self.title}, Author: {self.author}\")\n",
    "\n",
    "title = input(\"Enter book title: \")\n",
    "author = input(\"Enter book author: \")\n",
    "book = Book(title, author)\n",
    "book.display_details()"
   ]
  },
  {
   "cell_type": "code",
   "execution_count": 41,
   "id": "15fbcdff-2cd3-42d6-ba1e-87ad6d0cce6c",
   "metadata": {},
   "outputs": [
    {
     "name": "stdin",
     "output_type": "stream",
     "text": [
      "Enter the length of the rectangle:  8\n",
      "Enter the width of the rectangle:  6\n"
     ]
    },
    {
     "name": "stdout",
     "output_type": "stream",
     "text": [
      "Area: 48.0\n",
      "Perimeter: 28.0\n"
     ]
    }
   ],
   "source": [
    "#que.19\n",
    "class Rectangle:\n",
    "    def __init__(self, length, width):\n",
    "        self.length = length\n",
    "        self.width = width\n",
    "    \n",
    "    def area(self):\n",
    "        return self.length * self.width\n",
    "    \n",
    "    def perimeter(self):\n",
    "        return 2 * (self.length + self.width)\n",
    "\n",
    "length = float(input(\"Enter the length of the rectangle: \"))\n",
    "width = float(input(\"Enter the width of the rectangle: \"))\n",
    "rectangle = Rectangle(length, width)\n",
    "\n",
    "print(f\"Area: {rectangle.area()}\")\n",
    "print(f\"Perimeter: {rectangle.perimeter()}\")"
   ]
  },
  {
   "cell_type": "code",
   "execution_count": 43,
   "id": "5e6e127f-d03a-4a8b-be80-381fc891ae79",
   "metadata": {},
   "outputs": [
    {
     "name": "stdin",
     "output_type": "stream",
     "text": [
      "Enter book title:  kj\n",
      "Enter book author:  kj\n"
     ]
    },
    {
     "name": "stdout",
     "output_type": "stream",
     "text": [
      "Book: kj, Author: kj\n"
     ]
    }
   ],
   "source": [
    "#que,20\n",
    "class Book:\n",
    "    def __init__(self, title, author):\n",
    "        self.title = title\n",
    "        self.author = author\n",
    "    \n",
    "    def display_details(self):\n",
    "        print(f\"Book: {self.title}, Author: {self.author}\")\n",
    "\n",
    "title = input(\"Enter book title: \")\n",
    "author = input(\"Enter book author: \")\n",
    "book = Book(title, author)\n",
    "book.display_details()\n"
   ]
  },
  {
   "cell_type": "code",
   "execution_count": null,
   "id": "9ac0bc53-f3e9-4ffe-ab9a-7a576318f90f",
   "metadata": {},
   "outputs": [],
   "source": [
    "#que.20\n",
    "import math\n",
    "\n",
    "class Shape:\n",
    "    def area(self):\n",
    "        pass\n",
    "\n",
    "class Circle(Shape):\n",
    "    def __init__(self, radius):\n",
    "        self.radius = radius\n",
    "    \n",
    "    def area(self):\n",
    "        return math.pi * self.radius ** 2\n",
    "\n",
    "radius = float(input(\"Enter the radius of the circle: \"))\n",
    "circle = Circle(radius)\n",
    "\n",
    "print(f\"Area of Circle: {circle.area()}\")"
   ]
  },
  {
   "cell_type": "code",
   "execution_count": null,
   "id": "cd00d929-2e1b-4aaa-aab8-c70d5bb9ddb1",
   "metadata": {},
   "outputs": [],
   "source": []
  }
 ],
 "metadata": {
  "kernelspec": {
   "display_name": "Python [conda env:base] *",
   "language": "python",
   "name": "conda-base-py"
  },
  "language_info": {
   "codemirror_mode": {
    "name": "ipython",
    "version": 3
   },
   "file_extension": ".py",
   "mimetype": "text/x-python",
   "name": "python",
   "nbconvert_exporter": "python",
   "pygments_lexer": "ipython3",
   "version": "3.12.7"
  }
 },
 "nbformat": 4,
 "nbformat_minor": 5
}
